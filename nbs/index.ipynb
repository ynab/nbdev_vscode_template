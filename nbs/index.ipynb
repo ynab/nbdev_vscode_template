{
 "cells": [
  {
   "cell_type": "code",
   "execution_count": null,
   "metadata": {},
   "outputs": [],
   "source": [
    "#| hide\n",
    "from nbdev_in_vscode_template.core import *\n"
   ]
  },
  {
   "cell_type": "code",
   "execution_count": null,
   "metadata": {},
   "outputs": [
    {
     "name": "stdout",
     "output_type": "stream",
     "text": [
      "The autoreload extension is already loaded. To reload it, use:\n",
      "  %reload_ext autoreload\n"
     ]
    }
   ],
   "source": [
    "#| hide\n",
    "# Now it will automatically load the latest version of the modules\n",
    "%load_ext autoreload\n",
    "%autoreload 2"
   ]
  },
  {
   "attachments": {},
   "cell_type": "markdown",
   "metadata": {},
   "source": [
    "# NBDev template repository (with VSCode niceities)\n",
    "\n",
    "This is an example nbdev-enabled repo to show you how [nbdev](https://nbdev.fast.ai/) works, especially with Notebooks in VSCode. It's neat.\n",
    "NBDev allows you to work primarily in Notebooks, but export those notebooks to libraries, scripts, tests, and documentation. If you are skeptical about notebooks (like I was), [this might help](https://www.youtube.com/watch?v=9Q6sLbz37gk)\n",
    "And VSCode is a good notebook environment because you get [CoPilot](https://github.com/features/copilot/), debugging, and other things that we are used to.\n",
    "\n",
    "> index.ipynb will become your README and also the index of your documentation!"
   ]
  },
  {
   "attachments": {},
   "cell_type": "markdown",
   "metadata": {},
   "source": [
    "# Installation\n",
    "\n",
    "You can clone this repo and use it as a template.\n",
    "\n",
    "Once cloning it locally, run:\n",
    "\n",
    "```sh\n",
    "    $ ./bootstrap.sh\n",
    "```\n",
    "\n",
    "This installs requirements, a VSCode extension, and git pre-commit hooks. You will be prompted for your sudo password because it installs [Quarto](https://quarto.org), which apparently needs root access. ¯\\\\_(ツ)_/¯\n"
   ]
  },
  {
   "attachments": {},
   "cell_type": "markdown",
   "metadata": {},
   "source": [
    "\n",
    "# Usage\n",
    "\n",
    "\n",
    "### Editing the README\n",
    "\n",
    "1. To get started, open VSCode in this folder: `code .`\n",
    "2. When prompted, install the workspace suggested extensions (like Python, Jupyter, etc)\n",
    "3. Then, open the `nbs/index.ipynb` file in VSCode.\n",
    "4. VSCode might likely prompt you to install Jupyter. That's cool.\n",
    "5. Edit the index.ipynb file, and watch as it automatically becomes your README.md when you run `nbdev_build_docs`.\n",
    "\n",
    "### To keep your docs updated as you edit your notebooks, run:\n",
    "```sh\n",
    "    $ ./scripts/nbdev_preview.sh\n",
    "```\n",
    "\n",
    "### Editing the libraries:\n",
    "\n",
    "The other notebooks automatically get converted to .py files when you run `nbdev_build_lib`.\n",
    "\n",
    "1. To see how that works, open `00_core.ipynb`.\n",
    "2. run `nbdev_build_lib` to convert it to a .py file.\n",
    "3. Open the `nbdev_in_vscode_template/core.py` file that was generated.\n",
    "4. Put your cursor in the `say_hello` function and press F12 to jump to the definition of that function in your 00_core.ipynb file. (This is feature of the [nbdev-vscode extension](https://github.com/fastai/nbdev-vscode).)\n",
    "5. Put your cursor in the `add_one` function in the notebook and hit `F12` and see it jump to your function definition in the .py file.\n"
   ]
  },
  {
   "cell_type": "markdown",
   "metadata": {},
   "source": [
    "\n",
    "## Committing changes to git\n",
    "This repository uses pre-commit hooks to cleanup the notebook before pushing.\n",
    "\n",
    "#### Option 1: The simplest way to do things is to run this script to ensure that things are ready to be committed:\n",
    "\n",
    "```sh\n",
    "    ./scripts/nbdev_prepare.sh\n",
    "    # Now git commit as always\n",
    "```\n",
    "\n",
    "#### Option 2: Rely upon pre-commit hooks:\n",
    "\n",
    "When you do a git commit in this repo that has pre-commit hooks installed, your new workflow will be as follows:\n",
    "\n",
    "1. pre-commit runs each hook on your staged changes (as in, changes that you git added)\n",
    "2. If a hook changes files – for example, if a commited notebook wasn’t cleaned – pre-commit stops the commit, leaving those changes as unstaged. (This won't happen if you use nbdev_prepare!)\n",
    "3. You can now stage those changes and make any edits required to get pre-commit to pass\n",
    "4. Redo the git commit, and if it succeeds, your commit will be created.\n",
    "5. Using it in practice isn’t as complicated as it might sound. The best way to figure out if it works for you is to give it a try.\n",
    "\n",
    "If you have questions, see [this documentation about nbdev pre_commit](https://nbdev.fast.ai/tutorials/pre_commit.html) \n",
    "\n",
    "### More details on nbdev:\n",
    "For more on nbdev usage, follow the [nbdev tutorial](https://nbdev.fast.ai/tutorials/tutorial.html).\n"
   ]
  },
  {
   "attachments": {},
   "cell_type": "markdown",
   "metadata": {},
   "source": [
    "## Notebooks all the way down...\n",
    "\n",
    "This README, just like everything else in nbdev, is authored in a notebook.\n",
    "That means we can do cool stuff like run code in the notebook, and have the output show up in the readme, like this:"
   ]
  },
  {
   "cell_type": "code",
   "execution_count": null,
   "metadata": {},
   "outputs": [
    {
     "data": {
      "text/plain": [
       "'Hello world!'"
      ]
     },
     "execution_count": null,
     "metadata": {},
     "output_type": "execute_result"
    }
   ],
   "source": [
    "say_hello(\"world\")"
   ]
  },
  {
   "attachments": {},
   "cell_type": "markdown",
   "metadata": {},
   "source": [
    "Or this:"
   ]
  },
  {
   "cell_type": "code",
   "execution_count": null,
   "metadata": {},
   "outputs": [
    {
     "data": {
      "text/html": [
       "<img src=\"https://www.catster.com/wp-content/uploads/2017/08/A-fluffy-cat-looking-funny-surprised-or-concerned.jpg\"/>"
      ],
      "text/plain": [
       "<IPython.core.display.Image object>"
      ]
     },
     "execution_count": null,
     "metadata": {},
     "output_type": "execute_result"
    }
   ],
   "source": [
    "# Show an image of a cat:\n",
    "from IPython.display import Image\n",
    "Image(url=\"https://www.catster.com/wp-content/uploads/2017/08/A-fluffy-cat-looking-funny-surprised-or-concerned.jpg\")"
   ]
  },
  {
   "attachments": {},
   "cell_type": "markdown",
   "metadata": {},
   "source": [
    "## TODO\n",
    "\n",
    "- [ ] Figure out how console scripts work in settings.ini and add bootstrap to that.\n",
    "- [ ] Figure out the proper order of setup.py stuff and the bootstrap.sh stuff. (Should bootstrap.sh just be something that setup.py runs? I am a Python noob.)\n",
    "- [ ] Show how to use https://github.com/benbalter/jekyll-auth to use private Github pages for private repos (without having to upgrade to Github Enterprise)\n",
    "- [ ] When the [NBDev-VSCode extension](https://github.com/fastai/nbdev-vscode) gets published, add it as a recommended extension."
   ]
  }
 ],
 "metadata": {
  "kernelspec": {
   "display_name": "python3",
   "language": "python",
   "name": "python3"
  }
 },
 "nbformat": 4,
 "nbformat_minor": 4
}
